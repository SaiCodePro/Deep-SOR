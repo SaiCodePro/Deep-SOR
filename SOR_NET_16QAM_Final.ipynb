{
  "cells": [
    {
      "cell_type": "code",
      "execution_count": null,
      "id": "4b4d8f1f",
      "metadata": {
        "id": "4b4d8f1f"
      },
      "outputs": [],
      "source": [
        "import numpy as np\n",
        "import tensorflow as tf\n",
        "import matplotlib.pyplot as plt\n",
        "from tensorflow import keras\n",
        "\n"
      ]
    },
    {
      "cell_type": "code",
      "execution_count": null,
      "id": "742fc972",
      "metadata": {
        "colab": {
          "base_uri": "https://localhost:8080/"
        },
        "id": "742fc972",
        "outputId": "a7b9c1b5-d1d2-459f-ee68-8f998988318d"
      },
      "outputs": [],
      "source": [
        "Num_cc = np.arange(0,10)\n",
        "Num_ii = 100\n",
        "SNR_DB = np.arange(10,22,2)\n",
        "Nt = 24\n",
        "Nr = 32\n",
        "QAM = 16\n",
        "cesit = .0\n",
        "cesir = .0\n",
        "\n",
        "\n",
        "\n",
        "s, H, r, n = load_data\n",
        "\n",
        "\n",
        "E = (QAM-1)*((2*2)/2)/3\n",
        "E"
      ]
    },
    {
      "cell_type": "code",
      "execution_count": null,
      "id": "80e034ab",
      "metadata": {
        "id": "80e034ab"
      },
      "outputs": [],
      "source": [
        "for snr in SNR_DB:\n",
        "    sreal = np.real(s[snr])\n",
        "    simag = np.imag(s[snr])\n",
        "    s_real = np.concatenate((sreal,simag),1)\n",
        "\n",
        "    rreal = np.real(r[snr])\n",
        "    rimag = np.imag(r[snr])\n",
        "    r_real = np.concatenate((rreal,rimag),1)\n",
        "\n",
        "    hreal = np.real(H[snr])\n",
        "    himag = np.imag(H[snr])\n",
        "    hup = np.concatenate((hreal,-himag),2)\n",
        "    hdown = np.concatenate((himag,hreal),2)\n",
        "    h_real = np.concatenate((hup,hdown),1)\n",
        "\n",
        "    nreal = np.real(n[snr])\n",
        "    nimag = np.imag(n[snr])\n",
        "    n_real = np.concatenate((nreal,nimag),1)\n",
        "\n",
        "    if snr == SNR_DB[0]:\n",
        "\n",
        "        s_ = s_real\n",
        "        H_ = h_real\n",
        "        r_ = r_real\n",
        "        noise = n_real\n",
        "\n",
        "    else:\n",
        "\n",
        "        s_ = np.concatenate((s_ , s_real),0)\n",
        "        H_ = np.concatenate((H_ , h_real),0)\n",
        "        r_ = np.concatenate((r_ , r_real),0)\n",
        "        noise = np.concatenate((noise , n_real),0)\n",
        "\n"
      ]
    },
    {
      "cell_type": "code",
      "execution_count": null,
      "id": "eb26a595",
      "metadata": {
        "id": "eb26a595"
      },
      "outputs": [],
      "source": [
        "sigmaI = (np.var(noise,1,keepdims=True)*np.eye(s_.shape[1]))\n",
        "\n",
        "A = (np.transpose(H_,(0,2,1)) @ H_+sigmaI)\n",
        "b = np.transpose(H_,(0,2,1)) @ r_"
      ]
    },
    {
      "cell_type": "code",
      "execution_count": null,
      "id": "1caa449b",
      "metadata": {
        "id": "1caa449b"
      },
      "outputs": [],
      "source": [
        "L = np.tril(A)\n",
        "U = np.triu(A)\n",
        "D = -(A-U-L)\n",
        "L_inv = np.linalg.inv(L)"
      ]
    },
    {
      "cell_type": "code",
      "execution_count": null,
      "id": "8784ad4b",
      "metadata": {
        "id": "8784ad4b"
      },
      "outputs": [],
      "source": [
        "b_hat = L_inv@b\n",
        "U_hat = L_inv@U\n",
        "D_hat = L_inv@D"
      ]
    },
    {
      "cell_type": "code",
      "execution_count": null,
      "id": "13c25bb8",
      "metadata": {},
      "outputs": [],
      "source": []
    },
    {
      "cell_type": "code",
      "execution_count": null,
      "id": "37718167",
      "metadata": {
        "id": "37718167"
      },
      "outputs": [],
      "source": [
        "tr = np.arange(0,s_.shape[0],2)\n",
        "te = np.arange(1,s_.shape[0],2)\n",
        "\n",
        "s_tr = s_[tr]\n",
        "s_te = s_[te]\n",
        "\n",
        "D_hat_tr = D_hat[tr]\n",
        "D_hat_te = D_hat[te]\n",
        "\n",
        "b_hat_tr = b_hat[tr]\n",
        "b_hat_te = b_hat[te]\n",
        "\n",
        "\n",
        "U_hat_tr = U_hat[tr]\n",
        "U_hat_te = U_hat[te]\n",
        "\n",
        "\n",
        "b_tr = b[tr]\n",
        "b_te = b[te]\n",
        "\n",
        "A_tr = A[tr]\n",
        "A_te = A[te]\n",
        "\n",
        "L_i_tr = L_inv[tr]\n",
        "L_i_te = L_inv[te]\n",
        "\n",
        "\n",
        "H_tr = H_[tr]\n",
        "H_te = H_[te]\n"
      ]
    },
    {
      "cell_type": "code",
      "execution_count": null,
      "id": "870659f5",
      "metadata": {
        "id": "870659f5"
      },
      "outputs": [],
      "source": [
        "class Custom_layer(keras.layers.Layer):\n",
        "    def __init__(self , Nt, act):\n",
        "        super(Custom_layer, self).__init__()\n",
        "\n",
        "        self.act = act\n",
        "        self.Nt = Nt\n",
        "        self.W1 = self.add_weight(initializer=\"normal\", shape=(2*Nt,1),dtype=\"float32\", trainable=True, name = 'W1_')#此為tf的建立方法\n",
        "        self.W2 = self.add_weight(initializer=\"normal\", shape=(2*Nt,1),dtype=\"float32\", trainable=True, name = 'W2_')#此為tf的建立方法\n",
        "        self.l  = self.add_weight(initializer=\"normal\", shape=(2*Nt,1),dtype=\"float32\", trainable=True, name = 'l_')#此為tf的建立方法\n",
        "        \n",
        "\n",
        "    def call(self, inputs):\n",
        "        x, D_h,L_i, b, A = inputs[0], inputs[1], inputs[2], inputs[3],inputs[4]\n",
        "        z1 = self.W1*x   \n",
        "        z2 = self.W2*L_i@(b - A@x)        \n",
        "\n",
        "        X = z1+z2+self.l\n",
        "\n",
        "        return self.act(X)\n",
        "\n",
        "\n",
        "class Model_train(keras.Model):\n",
        "    def __init__(self, model):\n",
        "        super(Model_train, self).__init__()\n",
        "\n",
        "        self.model = model\n",
        "\n",
        "    def call(self, inputs):\n",
        "        x, D_h,L_i, b, A = inputs[0], inputs[1], inputs[2], inputs[3],inputs[4]\n",
        "        List = []\n",
        "        for i in range(len(self.model)):\n",
        "            x = self.model[i]([x, D_h,L_i, b, A])\n",
        "            List.append(x)\n",
        "\n",
        "        S = tf.concat(List,2)\n",
        "\n",
        "        return S,x\n"
      ]
    },
    {
      "cell_type": "code",
      "execution_count": null,
      "id": "dfb7b22b",
      "metadata": {
        "id": "dfb7b22b"
      },
      "outputs": [],
      "source": [
        "def built_net(layer,s,Nt,act):\n",
        "    model_list =[]\n",
        "    S_list = []\n",
        "    for i in range(layer):\n",
        "        S_list.append(s)\n",
        "        model_list.append(Custom_layer(Nt,act))\n",
        "\n",
        "    return np.concatenate(S_list,2), model_list\n",
        "\n",
        "\n",
        "def activation(x):\n",
        "    x=np.sqrt(E)*x\n",
        "    alf = 3\n",
        "    out = (tf.math.sigmoid(alf*x-1)+tf.math.sigmoid(alf*x+1)-1+2*tf.math.sigmoid(alf*x-2*alf)+2*tf.math.sigmoid(alf*x+2*alf)-2)/np.sqrt(E)\n",
        "    return out\n",
        "\n",
        "\n",
        "def lf(outd, Sd):\n",
        "    layer_ = Sd.shape[2]\n",
        "    Sd = tf.constant(Sd,dtype=tf.float32)\n",
        "\n",
        "\n",
        "    lf =  tf.norm(outd-Sd,ord=2,axis=1)**2\n",
        "\n",
        "    return tf.math.reduce_sum(lf*np.log(np.arange(2,layer_+2)))\n"
      ]
    },
    {
      "cell_type": "code",
      "execution_count": null,
      "id": "y8krfJsTjtvD",
      "metadata": {
        "colab": {
          "base_uri": "https://localhost:8080/",
          "height": 448
        },
        "id": "y8krfJsTjtvD",
        "outputId": "6013425c-264a-4db7-afb3-16aa3a3e3d1a"
      },
      "outputs": [],
      "source": [
        "x= np.linspace(-2,2,100)\n",
        "plt.plot(x,activation(x))\n",
        "activation(.5)"
      ]
    },
    {
      "cell_type": "code",
      "execution_count": null,
      "id": "yZnA7PEJlX1_",
      "metadata": {
        "id": "yZnA7PEJlX1_"
      },
      "outputs": [],
      "source": []
    },
    {
      "cell_type": "code",
      "execution_count": null,
      "id": "ea28f4a2",
      "metadata": {
        "id": "ea28f4a2"
      },
      "outputs": [],
      "source": [
        "layer = 10"
      ]
    },
    {
      "cell_type": "code",
      "execution_count": null,
      "id": "4b412e26",
      "metadata": {
        "id": "4b412e26"
      },
      "outputs": [],
      "source": [
        "S, model_list = built_net(layer,s_tr,Nt,activation)\n",
        "\n",
        "\n"
      ]
    },
    {
      "cell_type": "code",
      "execution_count": null,
      "id": "5z7C3zWOAoOd",
      "metadata": {
        "id": "5z7C3zWOAoOd"
      },
      "outputs": [],
      "source": [
        "Model = Model_train(model_list)\n",
        "\n"
      ]
    },
    {
      "cell_type": "code",
      "execution_count": null,
      "id": "38620d7d",
      "metadata": {
        "id": "38620d7d"
      },
      "outputs": [],
      "source": [
        "lr = .01\n",
        "opt = tf.keras.optimizers.Adam(lr)"
      ]
    },
    {
      "cell_type": "code",
      "execution_count": null,
      "id": "40185c12",
      "metadata": {
        "colab": {
          "base_uri": "https://localhost:8080/",
          "height": 1000
        },
        "id": "40185c12",
        "outputId": "5f9fcb12-ed16-4d0a-9028-a86825dc4d3f",
        "scrolled": true
      },
      "outputs": [],
      "source": [
        "\n",
        "for i in range(2000):\n",
        "\n",
        "\n",
        "    loss_fn = lambda:lf(Model([s_tr*0,  D_hat_tr, L_i_tr, b_tr,A_tr])[0],S)\n",
        "    var_list_fn = lambda: Model.trainable_weights\n",
        "    opt.minimize(loss_fn, var_list_fn)\n",
        "\n",
        "    print('ep:',i,'Loss= ',lf(Model([s_tr*0,  D_hat_tr, L_i_tr, b_tr,A_tr])[0],S).numpy())\n",
        "\n",
        "    \n",
        "      "
      ]
    },
    {
      "cell_type": "code",
      "execution_count": null,
      "id": "d850d4c5",
      "metadata": {
        "id": "d850d4c5"
      },
      "outputs": [],
      "source": [
        "s_out = Model.predict([s_te*0,  D_hat_te, L_i_te, b_te,A_te])[1]\n",
        "M = np.array([-3,-1,1,3])\n",
        "sym = np.array([[0,0],[0,1],[1,0],[1,1]])\n",
        "S_Out = sym[np.expand_dims(np.argmin(np.abs(s_out*np.sqrt(E)-M),2),2)]\n",
        "S_True = sym[np.expand_dims(np.argmin(np.abs(s_te*np.sqrt(E)-M),2),2)]\n",
        "\n",
        "er = S_Out != S_True\n",
        "l = int(er.shape[0]/len(SNR_DB))\n",
        "\n",
        "ber = []\n",
        "for i in range(len(SNR_DB)):\n",
        "    be = np.sum(er[i*l:(i+1)*l])/l/(4*Nt)\n",
        "\n",
        "    ber.append(be)\n",
        "ber"
      ]
    },
    {
      "cell_type": "code",
      "execution_count": null,
      "id": "55a0be64",
      "metadata": {
        "id": "55a0be64"
      },
      "outputs": [],
      "source": [
        "\n",
        "plt.semilogy(SNR_DB,ber)"
      ]
    },
    {
      "cell_type": "code",
      "execution_count": null,
      "id": "1f157b93",
      "metadata": {
        "colab": {
          "base_uri": "https://localhost:8080/"
        },
        "id": "1f157b93",
        "outputId": "e0d21ae7-5329-4bee-cb92-28541b6e8d36"
      },
      "outputs": [],
      "source": []
    },
    {
      "cell_type": "code",
      "execution_count": null,
      "id": "6db7e5c4",
      "metadata": {
        "id": "6db7e5c4"
      },
      "outputs": [],
      "source": []
    },
    {
      "cell_type": "code",
      "execution_count": null,
      "id": "3ae87246",
      "metadata": {
        "colab": {
          "base_uri": "https://localhost:8080/",
          "height": 448
        },
        "id": "3ae87246",
        "outputId": "25212a5e-7913-4846-cd62-ea6f09ff278f"
      },
      "outputs": [],
      "source": [
        "\n"
      ]
    }
  ],
  "metadata": {
    "accelerator": "GPU",
    "colab": {
      "gpuType": "T4",
      "provenance": []
    },
    "kernelspec": {
      "display_name": "Python 3",
      "name": "python3"
    },
    "language_info": {
      "codemirror_mode": {
        "name": "ipython",
        "version": 3
      },
      "file_extension": ".py",
      "mimetype": "text/x-python",
      "name": "python",
      "nbconvert_exporter": "python",
      "pygments_lexer": "ipython3",
      "version": "3.10.9"
    }
  },
  "nbformat": 4,
  "nbformat_minor": 5
}
